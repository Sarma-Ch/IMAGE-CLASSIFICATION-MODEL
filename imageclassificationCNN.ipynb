# importing required libraries for the program
!pip install tensorflow
import tensorflow as tf
import matplotlib.pyplot as plt
import numpy as np
from sklearn.metrics import classification_report
from tensorflow.keras import datasets
from tensorflow.keras import layers,models
# download required dataset from te tensorflow
(x_train,y_train),(x_test,y_test)=datasets.cifar10.load_data()
x_train.shape
# labelling the classes required for the dataset
classes=['airplane','automobile','bird','cat','deer','dog','frog','horse','ship','truck']
# reshaping the data in the dataset from 2dimensional to 1dimensional array
y_train=y_train.reshape(-1, )
y_train[:5]
# function to plot the image from the dataset for the given index with the label
def plot_image(x,y,index):
  plt.figure(figsize=(15,2))
  plt.imshow(x[index])
  plt.xlabel(classes[y[index]])
plot_image(x_train,y_train,7)
# normalizing the pixels for the dataset
x_train= x_train/255
x_test=x_test/255
# building an Artificial Neural Network ANN
ann=models.Sequential([
    layers.Flatten(input_shape=(32,32,3)),
    layers.Dense(4000,activation='relu'),
    layers.Dense(1000,activation='relu'),
    layers.Dense(10,activation='sigmoid')
])
ann.compile(optimizer='SGD',loss='sparse_categorical_crossentropy',metrics=['accuracy'])
ann.fit(x_train,y_train,epochs=7)
ann.evaluate(x_test,y_test)
y_pred=ann.predict(x_test)
y_pred_classes=[np.argmax(element) for element in y_pred]
print('ANN Classification report is : ',classification_report(y_test,y_pred_classes))
 
